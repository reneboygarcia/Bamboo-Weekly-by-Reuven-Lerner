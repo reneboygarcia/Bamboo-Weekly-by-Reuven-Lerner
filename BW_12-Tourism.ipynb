{
 "cells": [
  {
   "cell_type": "code",
   "execution_count": 18,
   "metadata": {},
   "outputs": [
    {
     "name": "stdout",
     "output_type": "stream",
     "text": [
      "Setup Complete\n"
     ]
    }
   ],
   "source": [
    "# Imports\n",
    "import pandas as pd\n",
    "import numpy as np\n",
    "import seaborn as sns\n",
    "import matplotlib.pyplot as plt\n",
    "import matplotlib.dates as mdates\n",
    "from typing import Union, Optional\n",
    "from urllib.request import urlretrieve\n",
    "from requests import get\n",
    "from pathlib import Path\n",
    "\n",
    "pd.set_option(\"display.max_columns\", None)\n",
    "print(\"Setup Complete\")"
   ]
  },
  {
   "attachments": {},
   "cell_type": "markdown",
   "metadata": {},
   "source": [
    "### Fetch Data"
   ]
  },
  {
   "cell_type": "code",
   "execution_count": 25,
   "metadata": {},
   "outputs": [],
   "source": [
    "# Get data\n",
    "def url_retrieve(url: str, filename: Path):\n",
    "    file = get(url, allow_redirects=True)\n",
    "    if file.status_code != 200:\n",
    "        raise ConnectionError(f\"Could not download {url}, error code {file.status_code}\")\n",
    "    \n",
    "    filename.write_bytes(file.content)\n",
    "\n",
    "url = \"https://www.trade.gov/sites/default/files/2022-02/Monthly-Arrivals-2000-Present.xlsx\"\n",
    "filename = Path(\"data/Monthly-Arrivals-2000-Present.xlsx\")\n",
    "file = url_retrieve(url=url, filename=filename)\n",
    "    "
   ]
  },
  {
   "cell_type": "code",
   "execution_count": 24,
   "metadata": {},
   "outputs": [
    {
     "ename": "URLError",
     "evalue": "<urlopen error [SSL: CERTIFICATE_VERIFY_FAILED] certificate verify failed: unable to get local issuer certificate (_ssl.c:1007)>",
     "output_type": "error",
     "traceback": [
      "\u001b[1;31m---------------------------------------------------------------------------\u001b[0m",
      "\u001b[1;31mSSLCertVerificationError\u001b[0m                  Traceback (most recent call last)",
      "File \u001b[1;32mc:\\Users\\reneb\\anaconda3\\envs\\data-eng\\lib\\urllib\\request.py:1348\u001b[0m, in \u001b[0;36mAbstractHTTPHandler.do_open\u001b[1;34m(self, http_class, req, **http_conn_args)\u001b[0m\n\u001b[0;32m   1347\u001b[0m \u001b[39mtry\u001b[39;00m:\n\u001b[1;32m-> 1348\u001b[0m     h\u001b[39m.\u001b[39;49mrequest(req\u001b[39m.\u001b[39;49mget_method(), req\u001b[39m.\u001b[39;49mselector, req\u001b[39m.\u001b[39;49mdata, headers,\n\u001b[0;32m   1349\u001b[0m               encode_chunked\u001b[39m=\u001b[39;49mreq\u001b[39m.\u001b[39;49mhas_header(\u001b[39m'\u001b[39;49m\u001b[39mTransfer-encoding\u001b[39;49m\u001b[39m'\u001b[39;49m))\n\u001b[0;32m   1350\u001b[0m \u001b[39mexcept\u001b[39;00m \u001b[39mOSError\u001b[39;00m \u001b[39mas\u001b[39;00m err: \u001b[39m# timeout error\u001b[39;00m\n",
      "File \u001b[1;32mc:\\Users\\reneb\\anaconda3\\envs\\data-eng\\lib\\http\\client.py:1283\u001b[0m, in \u001b[0;36mHTTPConnection.request\u001b[1;34m(self, method, url, body, headers, encode_chunked)\u001b[0m\n\u001b[0;32m   1282\u001b[0m \u001b[39m\u001b[39m\u001b[39m\"\"\"Send a complete request to the server.\"\"\"\u001b[39;00m\n\u001b[1;32m-> 1283\u001b[0m \u001b[39mself\u001b[39;49m\u001b[39m.\u001b[39;49m_send_request(method, url, body, headers, encode_chunked)\n",
      "File \u001b[1;32mc:\\Users\\reneb\\anaconda3\\envs\\data-eng\\lib\\http\\client.py:1329\u001b[0m, in \u001b[0;36mHTTPConnection._send_request\u001b[1;34m(self, method, url, body, headers, encode_chunked)\u001b[0m\n\u001b[0;32m   1328\u001b[0m     body \u001b[39m=\u001b[39m _encode(body, \u001b[39m'\u001b[39m\u001b[39mbody\u001b[39m\u001b[39m'\u001b[39m)\n\u001b[1;32m-> 1329\u001b[0m \u001b[39mself\u001b[39;49m\u001b[39m.\u001b[39;49mendheaders(body, encode_chunked\u001b[39m=\u001b[39;49mencode_chunked)\n",
      "File \u001b[1;32mc:\\Users\\reneb\\anaconda3\\envs\\data-eng\\lib\\http\\client.py:1278\u001b[0m, in \u001b[0;36mHTTPConnection.endheaders\u001b[1;34m(self, message_body, encode_chunked)\u001b[0m\n\u001b[0;32m   1277\u001b[0m     \u001b[39mraise\u001b[39;00m CannotSendHeader()\n\u001b[1;32m-> 1278\u001b[0m \u001b[39mself\u001b[39;49m\u001b[39m.\u001b[39;49m_send_output(message_body, encode_chunked\u001b[39m=\u001b[39;49mencode_chunked)\n",
      "File \u001b[1;32mc:\\Users\\reneb\\anaconda3\\envs\\data-eng\\lib\\http\\client.py:1038\u001b[0m, in \u001b[0;36mHTTPConnection._send_output\u001b[1;34m(self, message_body, encode_chunked)\u001b[0m\n\u001b[0;32m   1037\u001b[0m \u001b[39mdel\u001b[39;00m \u001b[39mself\u001b[39m\u001b[39m.\u001b[39m_buffer[:]\n\u001b[1;32m-> 1038\u001b[0m \u001b[39mself\u001b[39;49m\u001b[39m.\u001b[39;49msend(msg)\n\u001b[0;32m   1040\u001b[0m \u001b[39mif\u001b[39;00m message_body \u001b[39mis\u001b[39;00m \u001b[39mnot\u001b[39;00m \u001b[39mNone\u001b[39;00m:\n\u001b[0;32m   1041\u001b[0m \n\u001b[0;32m   1042\u001b[0m     \u001b[39m# create a consistent interface to message_body\u001b[39;00m\n",
      "File \u001b[1;32mc:\\Users\\reneb\\anaconda3\\envs\\data-eng\\lib\\http\\client.py:976\u001b[0m, in \u001b[0;36mHTTPConnection.send\u001b[1;34m(self, data)\u001b[0m\n\u001b[0;32m    975\u001b[0m \u001b[39mif\u001b[39;00m \u001b[39mself\u001b[39m\u001b[39m.\u001b[39mauto_open:\n\u001b[1;32m--> 976\u001b[0m     \u001b[39mself\u001b[39;49m\u001b[39m.\u001b[39;49mconnect()\n\u001b[0;32m    977\u001b[0m \u001b[39melse\u001b[39;00m:\n",
      "File \u001b[1;32mc:\\Users\\reneb\\anaconda3\\envs\\data-eng\\lib\\http\\client.py:1455\u001b[0m, in \u001b[0;36mHTTPSConnection.connect\u001b[1;34m(self)\u001b[0m\n\u001b[0;32m   1453\u001b[0m     server_hostname \u001b[39m=\u001b[39m \u001b[39mself\u001b[39m\u001b[39m.\u001b[39mhost\n\u001b[1;32m-> 1455\u001b[0m \u001b[39mself\u001b[39m\u001b[39m.\u001b[39msock \u001b[39m=\u001b[39m \u001b[39mself\u001b[39;49m\u001b[39m.\u001b[39;49m_context\u001b[39m.\u001b[39;49mwrap_socket(\u001b[39mself\u001b[39;49m\u001b[39m.\u001b[39;49msock,\n\u001b[0;32m   1456\u001b[0m                                       server_hostname\u001b[39m=\u001b[39;49mserver_hostname)\n",
      "File \u001b[1;32mc:\\Users\\reneb\\anaconda3\\envs\\data-eng\\lib\\ssl.py:513\u001b[0m, in \u001b[0;36mSSLContext.wrap_socket\u001b[1;34m(self, sock, server_side, do_handshake_on_connect, suppress_ragged_eofs, server_hostname, session)\u001b[0m\n\u001b[0;32m    507\u001b[0m \u001b[39mdef\u001b[39;00m \u001b[39mwrap_socket\u001b[39m(\u001b[39mself\u001b[39m, sock, server_side\u001b[39m=\u001b[39m\u001b[39mFalse\u001b[39;00m,\n\u001b[0;32m    508\u001b[0m                 do_handshake_on_connect\u001b[39m=\u001b[39m\u001b[39mTrue\u001b[39;00m,\n\u001b[0;32m    509\u001b[0m                 suppress_ragged_eofs\u001b[39m=\u001b[39m\u001b[39mTrue\u001b[39;00m,\n\u001b[0;32m    510\u001b[0m                 server_hostname\u001b[39m=\u001b[39m\u001b[39mNone\u001b[39;00m, session\u001b[39m=\u001b[39m\u001b[39mNone\u001b[39;00m):\n\u001b[0;32m    511\u001b[0m     \u001b[39m# SSLSocket class handles server_hostname encoding before it calls\u001b[39;00m\n\u001b[0;32m    512\u001b[0m     \u001b[39m# ctx._wrap_socket()\u001b[39;00m\n\u001b[1;32m--> 513\u001b[0m     \u001b[39mreturn\u001b[39;00m \u001b[39mself\u001b[39;49m\u001b[39m.\u001b[39;49msslsocket_class\u001b[39m.\u001b[39;49m_create(\n\u001b[0;32m    514\u001b[0m         sock\u001b[39m=\u001b[39;49msock,\n\u001b[0;32m    515\u001b[0m         server_side\u001b[39m=\u001b[39;49mserver_side,\n\u001b[0;32m    516\u001b[0m         do_handshake_on_connect\u001b[39m=\u001b[39;49mdo_handshake_on_connect,\n\u001b[0;32m    517\u001b[0m         suppress_ragged_eofs\u001b[39m=\u001b[39;49msuppress_ragged_eofs,\n\u001b[0;32m    518\u001b[0m         server_hostname\u001b[39m=\u001b[39;49mserver_hostname,\n\u001b[0;32m    519\u001b[0m         context\u001b[39m=\u001b[39;49m\u001b[39mself\u001b[39;49m,\n\u001b[0;32m    520\u001b[0m         session\u001b[39m=\u001b[39;49msession\n\u001b[0;32m    521\u001b[0m     )\n",
      "File \u001b[1;32mc:\\Users\\reneb\\anaconda3\\envs\\data-eng\\lib\\ssl.py:1071\u001b[0m, in \u001b[0;36mSSLSocket._create\u001b[1;34m(cls, sock, server_side, do_handshake_on_connect, suppress_ragged_eofs, server_hostname, context, session)\u001b[0m\n\u001b[0;32m   1070\u001b[0m             \u001b[39mraise\u001b[39;00m \u001b[39mValueError\u001b[39;00m(\u001b[39m\"\u001b[39m\u001b[39mdo_handshake_on_connect should not be specified for non-blocking sockets\u001b[39m\u001b[39m\"\u001b[39m)\n\u001b[1;32m-> 1071\u001b[0m         \u001b[39mself\u001b[39;49m\u001b[39m.\u001b[39;49mdo_handshake()\n\u001b[0;32m   1072\u001b[0m \u001b[39mexcept\u001b[39;00m (\u001b[39mOSError\u001b[39;00m, \u001b[39mValueError\u001b[39;00m):\n",
      "File \u001b[1;32mc:\\Users\\reneb\\anaconda3\\envs\\data-eng\\lib\\ssl.py:1342\u001b[0m, in \u001b[0;36mSSLSocket.do_handshake\u001b[1;34m(self, block)\u001b[0m\n\u001b[0;32m   1341\u001b[0m         \u001b[39mself\u001b[39m\u001b[39m.\u001b[39msettimeout(\u001b[39mNone\u001b[39;00m)\n\u001b[1;32m-> 1342\u001b[0m     \u001b[39mself\u001b[39;49m\u001b[39m.\u001b[39;49m_sslobj\u001b[39m.\u001b[39;49mdo_handshake()\n\u001b[0;32m   1343\u001b[0m \u001b[39mfinally\u001b[39;00m:\n",
      "\u001b[1;31mSSLCertVerificationError\u001b[0m: [SSL: CERTIFICATE_VERIFY_FAILED] certificate verify failed: unable to get local issuer certificate (_ssl.c:1007)",
      "\nDuring handling of the above exception, another exception occurred:\n",
      "\u001b[1;31mURLError\u001b[0m                                  Traceback (most recent call last)",
      "Cell \u001b[1;32mIn[24], line 3\u001b[0m\n\u001b[0;32m      1\u001b[0m \u001b[39m# Fetch Data\u001b[39;00m\n\u001b[0;32m      2\u001b[0m url \u001b[39m=\u001b[39m \u001b[39m\"\u001b[39m\u001b[39mhttps://www.trade.gov/sites/default/files/2022-02/Monthly-Arrivals-2000-Present.xlsx\u001b[39m\u001b[39m\"\u001b[39m\n\u001b[1;32m----> 3\u001b[0m file, _ \u001b[39m=\u001b[39m urlretrieve(url, filename\u001b[39m=\u001b[39;49m\u001b[39m\"\u001b[39;49m\u001b[39mdata/Monthly-Arrivals-2000-Present.xlsx\u001b[39;49m\u001b[39m\"\u001b[39;49m)\n",
      "File \u001b[1;32mc:\\Users\\reneb\\anaconda3\\envs\\data-eng\\lib\\urllib\\request.py:241\u001b[0m, in \u001b[0;36murlretrieve\u001b[1;34m(url, filename, reporthook, data)\u001b[0m\n\u001b[0;32m    224\u001b[0m \u001b[39m\u001b[39m\u001b[39m\"\"\"\u001b[39;00m\n\u001b[0;32m    225\u001b[0m \u001b[39mRetrieve a URL into a temporary location on disk.\u001b[39;00m\n\u001b[0;32m    226\u001b[0m \n\u001b[1;32m   (...)\u001b[0m\n\u001b[0;32m    237\u001b[0m \u001b[39mdata file as well as the resulting HTTPMessage object.\u001b[39;00m\n\u001b[0;32m    238\u001b[0m \u001b[39m\"\"\"\u001b[39;00m\n\u001b[0;32m    239\u001b[0m url_type, path \u001b[39m=\u001b[39m _splittype(url)\n\u001b[1;32m--> 241\u001b[0m \u001b[39mwith\u001b[39;00m contextlib\u001b[39m.\u001b[39mclosing(urlopen(url, data)) \u001b[39mas\u001b[39;00m fp:\n\u001b[0;32m    242\u001b[0m     headers \u001b[39m=\u001b[39m fp\u001b[39m.\u001b[39minfo()\n\u001b[0;32m    244\u001b[0m     \u001b[39m# Just return the local path and the \"headers\" for file://\u001b[39;00m\n\u001b[0;32m    245\u001b[0m     \u001b[39m# URLs. No sense in performing a copy unless requested.\u001b[39;00m\n",
      "File \u001b[1;32mc:\\Users\\reneb\\anaconda3\\envs\\data-eng\\lib\\urllib\\request.py:216\u001b[0m, in \u001b[0;36murlopen\u001b[1;34m(url, data, timeout, cafile, capath, cadefault, context)\u001b[0m\n\u001b[0;32m    214\u001b[0m \u001b[39melse\u001b[39;00m:\n\u001b[0;32m    215\u001b[0m     opener \u001b[39m=\u001b[39m _opener\n\u001b[1;32m--> 216\u001b[0m \u001b[39mreturn\u001b[39;00m opener\u001b[39m.\u001b[39;49mopen(url, data, timeout)\n",
      "File \u001b[1;32mc:\\Users\\reneb\\anaconda3\\envs\\data-eng\\lib\\urllib\\request.py:519\u001b[0m, in \u001b[0;36mOpenerDirector.open\u001b[1;34m(self, fullurl, data, timeout)\u001b[0m\n\u001b[0;32m    516\u001b[0m     req \u001b[39m=\u001b[39m meth(req)\n\u001b[0;32m    518\u001b[0m sys\u001b[39m.\u001b[39maudit(\u001b[39m'\u001b[39m\u001b[39murllib.Request\u001b[39m\u001b[39m'\u001b[39m, req\u001b[39m.\u001b[39mfull_url, req\u001b[39m.\u001b[39mdata, req\u001b[39m.\u001b[39mheaders, req\u001b[39m.\u001b[39mget_method())\n\u001b[1;32m--> 519\u001b[0m response \u001b[39m=\u001b[39m \u001b[39mself\u001b[39;49m\u001b[39m.\u001b[39;49m_open(req, data)\n\u001b[0;32m    521\u001b[0m \u001b[39m# post-process response\u001b[39;00m\n\u001b[0;32m    522\u001b[0m meth_name \u001b[39m=\u001b[39m protocol\u001b[39m+\u001b[39m\u001b[39m\"\u001b[39m\u001b[39m_response\u001b[39m\u001b[39m\"\u001b[39m\n",
      "File \u001b[1;32mc:\\Users\\reneb\\anaconda3\\envs\\data-eng\\lib\\urllib\\request.py:536\u001b[0m, in \u001b[0;36mOpenerDirector._open\u001b[1;34m(self, req, data)\u001b[0m\n\u001b[0;32m    533\u001b[0m     \u001b[39mreturn\u001b[39;00m result\n\u001b[0;32m    535\u001b[0m protocol \u001b[39m=\u001b[39m req\u001b[39m.\u001b[39mtype\n\u001b[1;32m--> 536\u001b[0m result \u001b[39m=\u001b[39m \u001b[39mself\u001b[39;49m\u001b[39m.\u001b[39;49m_call_chain(\u001b[39mself\u001b[39;49m\u001b[39m.\u001b[39;49mhandle_open, protocol, protocol \u001b[39m+\u001b[39;49m\n\u001b[0;32m    537\u001b[0m                           \u001b[39m'\u001b[39;49m\u001b[39m_open\u001b[39;49m\u001b[39m'\u001b[39;49m, req)\n\u001b[0;32m    538\u001b[0m \u001b[39mif\u001b[39;00m result:\n\u001b[0;32m    539\u001b[0m     \u001b[39mreturn\u001b[39;00m result\n",
      "File \u001b[1;32mc:\\Users\\reneb\\anaconda3\\envs\\data-eng\\lib\\urllib\\request.py:496\u001b[0m, in \u001b[0;36mOpenerDirector._call_chain\u001b[1;34m(self, chain, kind, meth_name, *args)\u001b[0m\n\u001b[0;32m    494\u001b[0m \u001b[39mfor\u001b[39;00m handler \u001b[39min\u001b[39;00m handlers:\n\u001b[0;32m    495\u001b[0m     func \u001b[39m=\u001b[39m \u001b[39mgetattr\u001b[39m(handler, meth_name)\n\u001b[1;32m--> 496\u001b[0m     result \u001b[39m=\u001b[39m func(\u001b[39m*\u001b[39;49margs)\n\u001b[0;32m    497\u001b[0m     \u001b[39mif\u001b[39;00m result \u001b[39mis\u001b[39;00m \u001b[39mnot\u001b[39;00m \u001b[39mNone\u001b[39;00m:\n\u001b[0;32m    498\u001b[0m         \u001b[39mreturn\u001b[39;00m result\n",
      "File \u001b[1;32mc:\\Users\\reneb\\anaconda3\\envs\\data-eng\\lib\\urllib\\request.py:1391\u001b[0m, in \u001b[0;36mHTTPSHandler.https_open\u001b[1;34m(self, req)\u001b[0m\n\u001b[0;32m   1390\u001b[0m \u001b[39mdef\u001b[39;00m \u001b[39mhttps_open\u001b[39m(\u001b[39mself\u001b[39m, req):\n\u001b[1;32m-> 1391\u001b[0m     \u001b[39mreturn\u001b[39;00m \u001b[39mself\u001b[39;49m\u001b[39m.\u001b[39;49mdo_open(http\u001b[39m.\u001b[39;49mclient\u001b[39m.\u001b[39;49mHTTPSConnection, req,\n\u001b[0;32m   1392\u001b[0m         context\u001b[39m=\u001b[39;49m\u001b[39mself\u001b[39;49m\u001b[39m.\u001b[39;49m_context, check_hostname\u001b[39m=\u001b[39;49m\u001b[39mself\u001b[39;49m\u001b[39m.\u001b[39;49m_check_hostname)\n",
      "File \u001b[1;32mc:\\Users\\reneb\\anaconda3\\envs\\data-eng\\lib\\urllib\\request.py:1351\u001b[0m, in \u001b[0;36mAbstractHTTPHandler.do_open\u001b[1;34m(self, http_class, req, **http_conn_args)\u001b[0m\n\u001b[0;32m   1348\u001b[0m         h\u001b[39m.\u001b[39mrequest(req\u001b[39m.\u001b[39mget_method(), req\u001b[39m.\u001b[39mselector, req\u001b[39m.\u001b[39mdata, headers,\n\u001b[0;32m   1349\u001b[0m                   encode_chunked\u001b[39m=\u001b[39mreq\u001b[39m.\u001b[39mhas_header(\u001b[39m'\u001b[39m\u001b[39mTransfer-encoding\u001b[39m\u001b[39m'\u001b[39m))\n\u001b[0;32m   1350\u001b[0m     \u001b[39mexcept\u001b[39;00m \u001b[39mOSError\u001b[39;00m \u001b[39mas\u001b[39;00m err: \u001b[39m# timeout error\u001b[39;00m\n\u001b[1;32m-> 1351\u001b[0m         \u001b[39mraise\u001b[39;00m URLError(err)\n\u001b[0;32m   1352\u001b[0m     r \u001b[39m=\u001b[39m h\u001b[39m.\u001b[39mgetresponse()\n\u001b[0;32m   1353\u001b[0m \u001b[39mexcept\u001b[39;00m:\n",
      "\u001b[1;31mURLError\u001b[0m: <urlopen error [SSL: CERTIFICATE_VERIFY_FAILED] certificate verify failed: unable to get local issuer certificate (_ssl.c:1007)>"
     ]
    }
   ],
   "source": [
    "# Fetch Data\n",
    "url = \"https://www.trade.gov/sites/default/files/2022-02/Monthly-Arrivals-2000-Present.xlsx\"\n",
    "file, _ = urlretrieve(url, filename=\"data/Monthly-Arrivals-2000-Present.xlsx\")\n"
   ]
  },
  {
   "attachments": {},
   "cell_type": "markdown",
   "metadata": {},
   "source": [
    "### Function-load_and_tweak_countries"
   ]
  },
  {
   "cell_type": "code",
   "execution_count": 26,
   "metadata": {},
   "outputs": [
    {
     "ename": "ValueError",
     "evalue": "Invalid file path or buffer object type: <class 'NoneType'>",
     "output_type": "error",
     "traceback": [
      "\u001b[1;31m---------------------------------------------------------------------------\u001b[0m",
      "\u001b[1;31mValueError\u001b[0m                                Traceback (most recent call last)",
      "Cell \u001b[1;32mIn[26], line 24\u001b[0m\n\u001b[0;32m     14\u001b[0m     df \u001b[39m=\u001b[39m (\n\u001b[0;32m     15\u001b[0m         df\u001b[39m.\u001b[39mdrop(columns\u001b[39m=\u001b[39m[\u001b[39m1\u001b[39m])\n\u001b[0;32m     16\u001b[0m         \u001b[39m.\u001b[39mdropna(axis\u001b[39m=\u001b[39m\u001b[39m\"\u001b[39m\u001b[39mindex\u001b[39m\u001b[39m\"\u001b[39m)\n\u001b[0;32m     17\u001b[0m         \u001b[39m.\u001b[39mrename(columns\u001b[39m=\u001b[39mrename_cols)\n\u001b[0;32m     18\u001b[0m         \u001b[39m.\u001b[39mreset_index(drop\u001b[39m=\u001b[39m\u001b[39mTrue\u001b[39;00m)\n\u001b[0;32m     19\u001b[0m     )\n\u001b[0;32m     21\u001b[0m     \u001b[39mreturn\u001b[39;00m df\n\u001b[1;32m---> 24\u001b[0m df_countries \u001b[39m=\u001b[39m load_and_tweak_countries(file)\n\u001b[0;32m     25\u001b[0m df_countries\u001b[39m.\u001b[39mhead()\n",
      "Cell \u001b[1;32mIn[26], line 11\u001b[0m, in \u001b[0;36mload_and_tweak_countries\u001b[1;34m(file)\u001b[0m\n\u001b[0;32m      4\u001b[0m rename_cols \u001b[39m=\u001b[39m {\n\u001b[0;32m      5\u001b[0m     \u001b[39m\"\u001b[39m\u001b[39mInternational Visitors--\u001b[39m\u001b[39m\\n\u001b[39;00m\u001b[39m   1) Country of Residence\u001b[39m\u001b[39m\\n\u001b[39;00m\u001b[39m   2) 1+ nights in the USA\u001b[39m\u001b[39m\\n\u001b[39;00m\u001b[39m   3)  Among qualified visa types\u001b[39m\u001b[39m\"\u001b[39m: \u001b[39m\"\u001b[39m\u001b[39mCountry\u001b[39m\u001b[39m\"\u001b[39m,\n\u001b[0;32m      6\u001b[0m     \u001b[39m\"\u001b[39m\u001b[39mWorld \u001b[39m\u001b[39m\\n\u001b[39;00m\u001b[39mRegion\u001b[39m\u001b[39m\"\u001b[39m: \u001b[39m\"\u001b[39m\u001b[39mWorld Region\u001b[39m\u001b[39m\"\u001b[39m,\n\u001b[0;32m      7\u001b[0m     \u001b[39m\"\u001b[39m\u001b[39m2023-02\u001b[39m\u001b[39m\\n\u001b[39;00m\u001b[39mPreliminary\u001b[39m\u001b[39m\"\u001b[39m: \u001b[39m\"\u001b[39m\u001b[39m2023-02\u001b[39m\u001b[39m\"\u001b[39m,\n\u001b[0;32m      8\u001b[0m     \u001b[39m\"\u001b[39m\u001b[39m2023-01\u001b[39m\u001b[39m\\n\u001b[39;00m\u001b[39mPreliminary\u001b[39m\u001b[39m\"\u001b[39m: \u001b[39m\"\u001b[39m\u001b[39m2023-01\u001b[39m\u001b[39m\"\u001b[39m,\n\u001b[0;32m      9\u001b[0m }\n\u001b[0;32m     10\u001b[0m \u001b[39m# Load Dataframe\u001b[39;00m\n\u001b[1;32m---> 11\u001b[0m df \u001b[39m=\u001b[39m pd\u001b[39m.\u001b[39;49mread_excel(file, sheet_name\u001b[39m=\u001b[39;49m\u001b[39m\"\u001b[39;49m\u001b[39mMonthly\u001b[39;49m\u001b[39m\"\u001b[39;49m, usecols\u001b[39m=\u001b[39;49m\u001b[39m\"\u001b[39;49m\u001b[39mA:C\u001b[39;49m\u001b[39m\"\u001b[39;49m)\n\u001b[0;32m     13\u001b[0m \u001b[39m# Tweak Dataframe\u001b[39;00m\n\u001b[0;32m     14\u001b[0m df \u001b[39m=\u001b[39m (\n\u001b[0;32m     15\u001b[0m     df\u001b[39m.\u001b[39mdrop(columns\u001b[39m=\u001b[39m[\u001b[39m1\u001b[39m])\n\u001b[0;32m     16\u001b[0m     \u001b[39m.\u001b[39mdropna(axis\u001b[39m=\u001b[39m\u001b[39m\"\u001b[39m\u001b[39mindex\u001b[39m\u001b[39m\"\u001b[39m)\n\u001b[0;32m     17\u001b[0m     \u001b[39m.\u001b[39mrename(columns\u001b[39m=\u001b[39mrename_cols)\n\u001b[0;32m     18\u001b[0m     \u001b[39m.\u001b[39mreset_index(drop\u001b[39m=\u001b[39m\u001b[39mTrue\u001b[39;00m)\n\u001b[0;32m     19\u001b[0m )\n",
      "File \u001b[1;32mc:\\Users\\reneb\\anaconda3\\envs\\data-eng\\lib\\site-packages\\pandas\\util\\_decorators.py:211\u001b[0m, in \u001b[0;36mdeprecate_kwarg.<locals>._deprecate_kwarg.<locals>.wrapper\u001b[1;34m(*args, **kwargs)\u001b[0m\n\u001b[0;32m    209\u001b[0m     \u001b[39melse\u001b[39;00m:\n\u001b[0;32m    210\u001b[0m         kwargs[new_arg_name] \u001b[39m=\u001b[39m new_arg_value\n\u001b[1;32m--> 211\u001b[0m \u001b[39mreturn\u001b[39;00m func(\u001b[39m*\u001b[39margs, \u001b[39m*\u001b[39m\u001b[39m*\u001b[39mkwargs)\n",
      "File \u001b[1;32mc:\\Users\\reneb\\anaconda3\\envs\\data-eng\\lib\\site-packages\\pandas\\util\\_decorators.py:331\u001b[0m, in \u001b[0;36mdeprecate_nonkeyword_arguments.<locals>.decorate.<locals>.wrapper\u001b[1;34m(*args, **kwargs)\u001b[0m\n\u001b[0;32m    325\u001b[0m \u001b[39mif\u001b[39;00m \u001b[39mlen\u001b[39m(args) \u001b[39m>\u001b[39m num_allow_args:\n\u001b[0;32m    326\u001b[0m     warnings\u001b[39m.\u001b[39mwarn(\n\u001b[0;32m    327\u001b[0m         msg\u001b[39m.\u001b[39mformat(arguments\u001b[39m=\u001b[39m_format_argument_list(allow_args)),\n\u001b[0;32m    328\u001b[0m         \u001b[39mFutureWarning\u001b[39;00m,\n\u001b[0;32m    329\u001b[0m         stacklevel\u001b[39m=\u001b[39mfind_stack_level(),\n\u001b[0;32m    330\u001b[0m     )\n\u001b[1;32m--> 331\u001b[0m \u001b[39mreturn\u001b[39;00m func(\u001b[39m*\u001b[39margs, \u001b[39m*\u001b[39m\u001b[39m*\u001b[39mkwargs)\n",
      "File \u001b[1;32mc:\\Users\\reneb\\anaconda3\\envs\\data-eng\\lib\\site-packages\\pandas\\io\\excel\\_base.py:482\u001b[0m, in \u001b[0;36mread_excel\u001b[1;34m(io, sheet_name, header, names, index_col, usecols, squeeze, dtype, engine, converters, true_values, false_values, skiprows, nrows, na_values, keep_default_na, na_filter, verbose, parse_dates, date_parser, thousands, decimal, comment, skipfooter, convert_float, mangle_dupe_cols, storage_options)\u001b[0m\n\u001b[0;32m    480\u001b[0m \u001b[39mif\u001b[39;00m \u001b[39mnot\u001b[39;00m \u001b[39misinstance\u001b[39m(io, ExcelFile):\n\u001b[0;32m    481\u001b[0m     should_close \u001b[39m=\u001b[39m \u001b[39mTrue\u001b[39;00m\n\u001b[1;32m--> 482\u001b[0m     io \u001b[39m=\u001b[39m ExcelFile(io, storage_options\u001b[39m=\u001b[39;49mstorage_options, engine\u001b[39m=\u001b[39;49mengine)\n\u001b[0;32m    483\u001b[0m \u001b[39melif\u001b[39;00m engine \u001b[39mand\u001b[39;00m engine \u001b[39m!=\u001b[39m io\u001b[39m.\u001b[39mengine:\n\u001b[0;32m    484\u001b[0m     \u001b[39mraise\u001b[39;00m \u001b[39mValueError\u001b[39;00m(\n\u001b[0;32m    485\u001b[0m         \u001b[39m\"\u001b[39m\u001b[39mEngine should not be specified when passing \u001b[39m\u001b[39m\"\u001b[39m\n\u001b[0;32m    486\u001b[0m         \u001b[39m\"\u001b[39m\u001b[39man ExcelFile - ExcelFile already has the engine set\u001b[39m\u001b[39m\"\u001b[39m\n\u001b[0;32m    487\u001b[0m     )\n",
      "File \u001b[1;32mc:\\Users\\reneb\\anaconda3\\envs\\data-eng\\lib\\site-packages\\pandas\\io\\excel\\_base.py:1652\u001b[0m, in \u001b[0;36mExcelFile.__init__\u001b[1;34m(self, path_or_buffer, engine, storage_options)\u001b[0m\n\u001b[0;32m   1650\u001b[0m     ext \u001b[39m=\u001b[39m \u001b[39m\"\u001b[39m\u001b[39mxls\u001b[39m\u001b[39m\"\u001b[39m\n\u001b[0;32m   1651\u001b[0m \u001b[39melse\u001b[39;00m:\n\u001b[1;32m-> 1652\u001b[0m     ext \u001b[39m=\u001b[39m inspect_excel_format(\n\u001b[0;32m   1653\u001b[0m         content_or_path\u001b[39m=\u001b[39;49mpath_or_buffer, storage_options\u001b[39m=\u001b[39;49mstorage_options\n\u001b[0;32m   1654\u001b[0m     )\n\u001b[0;32m   1655\u001b[0m     \u001b[39mif\u001b[39;00m ext \u001b[39mis\u001b[39;00m \u001b[39mNone\u001b[39;00m:\n\u001b[0;32m   1656\u001b[0m         \u001b[39mraise\u001b[39;00m \u001b[39mValueError\u001b[39;00m(\n\u001b[0;32m   1657\u001b[0m             \u001b[39m\"\u001b[39m\u001b[39mExcel file format cannot be determined, you must specify \u001b[39m\u001b[39m\"\u001b[39m\n\u001b[0;32m   1658\u001b[0m             \u001b[39m\"\u001b[39m\u001b[39man engine manually.\u001b[39m\u001b[39m\"\u001b[39m\n\u001b[0;32m   1659\u001b[0m         )\n",
      "File \u001b[1;32mc:\\Users\\reneb\\anaconda3\\envs\\data-eng\\lib\\site-packages\\pandas\\io\\excel\\_base.py:1525\u001b[0m, in \u001b[0;36minspect_excel_format\u001b[1;34m(content_or_path, storage_options)\u001b[0m\n\u001b[0;32m   1522\u001b[0m \u001b[39mif\u001b[39;00m \u001b[39misinstance\u001b[39m(content_or_path, \u001b[39mbytes\u001b[39m):\n\u001b[0;32m   1523\u001b[0m     content_or_path \u001b[39m=\u001b[39m BytesIO(content_or_path)\n\u001b[1;32m-> 1525\u001b[0m \u001b[39mwith\u001b[39;00m get_handle(\n\u001b[0;32m   1526\u001b[0m     content_or_path, \u001b[39m\"\u001b[39;49m\u001b[39mrb\u001b[39;49m\u001b[39m\"\u001b[39;49m, storage_options\u001b[39m=\u001b[39;49mstorage_options, is_text\u001b[39m=\u001b[39;49m\u001b[39mFalse\u001b[39;49;00m\n\u001b[0;32m   1527\u001b[0m ) \u001b[39mas\u001b[39;00m handle:\n\u001b[0;32m   1528\u001b[0m     stream \u001b[39m=\u001b[39m handle\u001b[39m.\u001b[39mhandle\n\u001b[0;32m   1529\u001b[0m     stream\u001b[39m.\u001b[39mseek(\u001b[39m0\u001b[39m)\n",
      "File \u001b[1;32mc:\\Users\\reneb\\anaconda3\\envs\\data-eng\\lib\\site-packages\\pandas\\io\\common.py:713\u001b[0m, in \u001b[0;36mget_handle\u001b[1;34m(path_or_buf, mode, encoding, compression, memory_map, is_text, errors, storage_options)\u001b[0m\n\u001b[0;32m    710\u001b[0m     codecs\u001b[39m.\u001b[39mlookup_error(errors)\n\u001b[0;32m    712\u001b[0m \u001b[39m# open URLs\u001b[39;00m\n\u001b[1;32m--> 713\u001b[0m ioargs \u001b[39m=\u001b[39m _get_filepath_or_buffer(\n\u001b[0;32m    714\u001b[0m     path_or_buf,\n\u001b[0;32m    715\u001b[0m     encoding\u001b[39m=\u001b[39;49mencoding,\n\u001b[0;32m    716\u001b[0m     compression\u001b[39m=\u001b[39;49mcompression,\n\u001b[0;32m    717\u001b[0m     mode\u001b[39m=\u001b[39;49mmode,\n\u001b[0;32m    718\u001b[0m     storage_options\u001b[39m=\u001b[39;49mstorage_options,\n\u001b[0;32m    719\u001b[0m )\n\u001b[0;32m    721\u001b[0m handle \u001b[39m=\u001b[39m ioargs\u001b[39m.\u001b[39mfilepath_or_buffer\n\u001b[0;32m    722\u001b[0m handles: \u001b[39mlist\u001b[39m[BaseBuffer]\n",
      "File \u001b[1;32mc:\\Users\\reneb\\anaconda3\\envs\\data-eng\\lib\\site-packages\\pandas\\io\\common.py:451\u001b[0m, in \u001b[0;36m_get_filepath_or_buffer\u001b[1;34m(filepath_or_buffer, encoding, compression, mode, storage_options)\u001b[0m\n\u001b[0;32m    447\u001b[0m \u001b[39mif\u001b[39;00m \u001b[39mnot\u001b[39;00m (\n\u001b[0;32m    448\u001b[0m     \u001b[39mhasattr\u001b[39m(filepath_or_buffer, \u001b[39m\"\u001b[39m\u001b[39mread\u001b[39m\u001b[39m\"\u001b[39m) \u001b[39mor\u001b[39;00m \u001b[39mhasattr\u001b[39m(filepath_or_buffer, \u001b[39m\"\u001b[39m\u001b[39mwrite\u001b[39m\u001b[39m\"\u001b[39m)\n\u001b[0;32m    449\u001b[0m ):\n\u001b[0;32m    450\u001b[0m     msg \u001b[39m=\u001b[39m \u001b[39mf\u001b[39m\u001b[39m\"\u001b[39m\u001b[39mInvalid file path or buffer object type: \u001b[39m\u001b[39m{\u001b[39;00m\u001b[39mtype\u001b[39m(filepath_or_buffer)\u001b[39m}\u001b[39;00m\u001b[39m\"\u001b[39m\n\u001b[1;32m--> 451\u001b[0m     \u001b[39mraise\u001b[39;00m \u001b[39mValueError\u001b[39;00m(msg)\n\u001b[0;32m    453\u001b[0m \u001b[39mreturn\u001b[39;00m IOArgs(\n\u001b[0;32m    454\u001b[0m     filepath_or_buffer\u001b[39m=\u001b[39mfilepath_or_buffer,\n\u001b[0;32m    455\u001b[0m     encoding\u001b[39m=\u001b[39mencoding,\n\u001b[1;32m   (...)\u001b[0m\n\u001b[0;32m    458\u001b[0m     mode\u001b[39m=\u001b[39mmode,\n\u001b[0;32m    459\u001b[0m )\n",
      "\u001b[1;31mValueError\u001b[0m: Invalid file path or buffer object type: <class 'NoneType'>"
     ]
    }
   ],
   "source": [
    "# Define a function to load the tweak for the countries df\n",
    "def load_and_tweak_countries(file: str) -> pd.DataFrame:\n",
    "    # Rename Headers\n",
    "    rename_cols = {\n",
    "        \"International Visitors--\\n   1) Country of Residence\\n   2) 1+ nights in the USA\\n   3)  Among qualified visa types\": \"Country\",\n",
    "        \"World \\nRegion\": \"World Region\",\n",
    "        \"2023-02\\nPreliminary\": \"2023-02\",\n",
    "        \"2023-01\\nPreliminary\": \"2023-01\",\n",
    "    }\n",
    "    # Load Dataframe\n",
    "    df = pd.read_excel(file, sheet_name=\"Monthly\", usecols=\"A:C\")\n",
    "\n",
    "    # Tweak Dataframe\n",
    "    df = (\n",
    "        df.drop(columns=[1])\n",
    "        .dropna(axis=\"index\")\n",
    "        .rename(columns=rename_cols)\n",
    "        .reset_index(drop=True)\n",
    "    )\n",
    "\n",
    "    return df\n",
    "\n",
    "\n",
    "df_countries = load_and_tweak_countries(file)\n",
    "df_countries.head()"
   ]
  },
  {
   "cell_type": "code",
   "execution_count": null,
   "metadata": {},
   "outputs": [],
   "source": [
    "df_countries.describe()\n"
   ]
  },
  {
   "cell_type": "code",
   "execution_count": null,
   "metadata": {},
   "outputs": [],
   "source": [
    "df_countries.info()\n"
   ]
  },
  {
   "attachments": {},
   "cell_type": "markdown",
   "metadata": {},
   "source": [
    "### Function-covert_to_datetime"
   ]
  },
  {
   "cell_type": "code",
   "execution_count": null,
   "metadata": {},
   "outputs": [],
   "source": [
    "# Define a function to change headers to datetime with specific date format\n",
    "def convert_to_datetime(df: pd.DataFrame) -> pd.DataFrame:\n",
    "    df.columns = pd.to_datetime(df.columns).strftime(\"%Y-%m\")\n",
    "    df.columns = [pd.to_datetime(col) for col in df.columns]\n",
    "    return df\n",
    "\n",
    "\n",
    "# tweak_cols(df_travel)"
   ]
  },
  {
   "attachments": {},
   "cell_type": "markdown",
   "metadata": {},
   "source": [
    "### Function-load_and_tweak_travel"
   ]
  },
  {
   "cell_type": "code",
   "execution_count": null,
   "metadata": {},
   "outputs": [],
   "source": [
    "# Define a function to load the tweak for the travel df\n",
    "def load_and_tweak_travel(file: str) -> pd.DataFrame:\n",
    "    # Rename Headers\n",
    "    rename_cols = {\n",
    "        \"International Visitors--\\n   1) Country of Residence\\n   2) 1+ nights in the USA\\n   3)  Among qualified visa types\": \"Country\",\n",
    "        \"World \\nRegion\": \"World Region\",\n",
    "        \"2023-02\\nPreliminary\": \"2023-02\",\n",
    "        \"2023-01\\nPreliminary\": \"2023-01\",\n",
    "    }\n",
    "\n",
    "    # Columns to drop\n",
    "    cols_to_drop = [\n",
    "        1,\n",
    "        \"Unnamed: 281\",\n",
    "        \"Unnamed: 282\",\n",
    "        \"Unnamed: 283\",\n",
    "        \"Unnamed: 284\",\n",
    "        \"Unnamed: 285\",\n",
    "        \"Unnamed: 286\",\n",
    "        \"Unnamed: 287\",\n",
    "        \"Unnamed: 288\",\n",
    "        \"Unnamed: 289\",\n",
    "        \"Unnamed: 290\",\n",
    "        \"Unnamed: 291\",\n",
    "        \"Unnamed: 292\",\n",
    "        \"Unnamed: 293\",\n",
    "        \"Unnamed: 294\",\n",
    "        \"Notes:\",\n",
    "        \" \",\n",
    "    ]\n",
    "    # Load Dataframe\n",
    "    df = pd.read_excel(file, sheet_name=\"Monthly\")\n",
    "\n",
    "    # Tweak Dataframe\n",
    "    df = (\n",
    "        df.rename(columns=rename_cols)\n",
    "        .drop(columns=cols_to_drop)\n",
    "        .dropna(axis=\"index\", subset=[\"Country\", \"World Region\"])\n",
    "        .fillna(value=0)\n",
    "        .set_index([\"Country\", \"World Region\"])\n",
    "        .replace(\n",
    "            {\"-\": 0, \" \": 0, \"   \": 0, \"---\": 0}, regex=True\n",
    "        )  # Fill values with minus sign, one space, three spaces with 0\n",
    "        .pipe(convert_to_datetime)  # Convert to datetime\n",
    "        .astype(int)\n",
    "    )\n",
    "\n",
    "    return df\n",
    "\n",
    "\n",
    "df_travel = load_and_tweak_travel(file)\n",
    "df_travel"
   ]
  },
  {
   "cell_type": "code",
   "execution_count": null,
   "metadata": {},
   "outputs": [],
   "source": [
    "df_travel.info()\n"
   ]
  },
  {
   "cell_type": "code",
   "execution_count": null,
   "metadata": {},
   "outputs": [],
   "source": [
    "# Manual check if we have replaced correctly the target values\n",
    "df_travel.query('Country==\"Wallis And Futuna Islands\"')\n"
   ]
  },
  {
   "attachments": {},
   "cell_type": "markdown",
   "metadata": {},
   "source": [
    "### Q3- In the most recent report, which 10 countries had the greatest number of tourists enter the US?"
   ]
  },
  {
   "cell_type": "code",
   "execution_count": null,
   "metadata": {},
   "outputs": [],
   "source": [
    "# Q3- In the most recent report, which 10 countries had the greatest number of tourists enter the US?\n",
    "# The latest report is February 2023\n",
    "df_2023 = df_travel[[df_travel.columns[-1]]].nlargest(\n",
    "    n=10, columns=[df_travel.columns[-1]]\n",
    ")\n",
    "df_2023"
   ]
  },
  {
   "attachments": {},
   "cell_type": "markdown",
   "metadata": {},
   "source": [
    "### Q4- In the first report, which 10 countries had the greatest number of tourists enter the US?"
   ]
  },
  {
   "cell_type": "code",
   "execution_count": null,
   "metadata": {},
   "outputs": [],
   "source": [
    "# Q4- In the first report, which 10 countries had the greatest number of tourists enter the US?\n",
    "# The first report is the first column,January 2000\n",
    "df_2000 = df_travel[[df_travel.columns[0]]].nlargest(\n",
    "    n=10, columns=[df_travel.columns[0]]\n",
    ")\n",
    "df_2000"
   ]
  },
  {
   "attachments": {},
   "cell_type": "markdown",
   "metadata": {},
   "source": [
    "### Q5-Total the number of tourists from each region in the earliest report vs. the latest report. \n",
    "### (Yes, you could get this directly from the original Excel spreadsheet, but I want you to calculate this yourself!) Do we see any changes in the last two decades or so?"
   ]
  },
  {
   "cell_type": "code",
   "execution_count": null,
   "metadata": {},
   "outputs": [],
   "source": [
    "# Q5- Total the number of tourists from each region in the earliest report vs. the latest report.\n",
    "# (Yes, you could get this directly from the original Excel spreadsheet,\n",
    "# but I want you to calculate this yourself!) Do we see any changes in the last two decades or so?\n",
    "\n",
    "# Create a copy\n",
    "df_travel_ = df_travel.reset_index().copy()\n",
    "\n",
    "# Get the earliest and latest report\n",
    "latest_col = df_travel_.columns[-1]  # February 2023\n",
    "earliet_col = df_travel_.columns[-1]  # Janaury 2000\n",
    "\n",
    "# Group by Region\n",
    "df_region = (\n",
    "    df_travel_.groupby(by=[\"World Region\"])[latest_col]\n",
    "    .sum()\n",
    "    .to_frame()\n",
    "    .sort_values(by=[latest_col], ascending=False)\n",
    ")\n",
    "\n",
    "df_region\n"
   ]
  },
  {
   "cell_type": "code",
   "execution_count": null,
   "metadata": {},
   "outputs": [],
   "source": [
    "df_travel_.columns[2]"
   ]
  },
  {
   "cell_type": "code",
   "execution_count": null,
   "metadata": {},
   "outputs": [],
   "source": [
    "# Q5A- Total the number of tourists from each region in the earliest report vs. the latest report.\n",
    "# (Yes, you could get this directly from the original Excel spreadsheet,\n",
    "# but I want you to calculate this yourself!) Do we see any changes in the last two decades or so?\n",
    "\n",
    "# Create a copy\n",
    "df_travel_ = df_travel.reset_index().copy()\n",
    "\n",
    "# Get the earliest and latest report\n",
    "latest_col = df_travel_.columns[-3]  # December 2022\n",
    "earliest_col = df_travel_.columns[2]  # Janaury 2000\n",
    "\n",
    "# Group by Region\n",
    "df_region = (\n",
    "    df_travel_.groupby(by=[\"World Region\"])[[earliest_col, latest_col]]\n",
    "    .sum()\n",
    "    .sort_values(by=[earliest_col, latest_col], ascending=False)\n",
    ")\n",
    "\n",
    "df_region\n"
   ]
  },
  {
   "cell_type": "code",
   "execution_count": null,
   "metadata": {},
   "outputs": [],
   "source": [
    "# Plot this in bar graph\n",
    "# Style\n",
    "plt.style.use(\"fivethirtyeight\")\n",
    "plt.figure(figsize=(5, 10))\n",
    "# Sort values\n",
    "df_region = df_region.sort_values(by=[df_region.columns[1]], ascending=True)\n",
    "# Plot\n",
    "ax = df_region.plot(kind=\"barh\", figsize=(10, 10))\n",
    "\n",
    "# Format\n",
    "ax.xaxis.set_major_formatter(plt.FuncFormatter(lambda x, loc: f\"{int(x):,}\"))\n",
    "plt.show()\n"
   ]
  },
  {
   "attachments": {},
   "cell_type": "markdown",
   "metadata": {},
   "source": [
    "#### Function-line_plot()"
   ]
  },
  {
   "cell_type": "code",
   "execution_count": null,
   "metadata": {},
   "outputs": [],
   "source": [
    "def line_plot(\n",
    "    df: pd.DataFrame,\n",
    "    x: str,\n",
    "    y: str,\n",
    "    hue: str,\n",
    "    color_map: Optional[Union[str, list, dict]] = None,\n",
    "    year_interval: int=5,\n",
    "):\n",
    "    # Style\n",
    "    plt.style.use(\"fivethirtyeight\")\n",
    "    fig, ax = plt.subplots(figsize=(20, 5))\n",
    "\n",
    "    # Plot\n",
    "    ax = sns.lineplot(df, x=x, y=y, hue=hue, palette=color_map, alpha=0.9, legend=False)\n",
    "    # Add the text--for each line, find the end, annotate it with a label, and\n",
    "    # adjust the chart axes so that everything fits on.\n",
    "    for line, name in zip(ax.lines, df[hue].unique()):\n",
    "        y = line.get_ydata()[-1]  # NB: to use start value, set [-1] to [0] instead\n",
    "        x = line.get_xdata()[-1]\n",
    "        if not np.isfinite(y):\n",
    "            y = next(reversed(line.get_ydata()[~line.get_ydata().mask]), float(\"nan\"))\n",
    "        if not np.isfinite(y) or not np.isfinite(x):\n",
    "            continue\n",
    "        text = ax.annotate(\n",
    "            name,\n",
    "            xy=(x, y),\n",
    "            xytext=(2, -2),  # YOU CAN ADJUST THE LOC OF LABEL HERE\n",
    "            color=line.get_color(),\n",
    "            xycoords=(ax.get_xaxis_transform(), ax.get_yaxis_transform()),\n",
    "            textcoords=\"offset points\",\n",
    "            fontweight=\"regular\",\n",
    "        )\n",
    "        text_width = (\n",
    "            text.get_window_extent(fig.canvas.get_renderer())\n",
    "            .transformed(ax.transData.inverted())\n",
    "            .width\n",
    "        )\n",
    "        if np.isfinite(text_width):\n",
    "            ax.set_xlim(ax.get_xlim()[0], text.xy[0] + text_width * 1.05)\n",
    "\n",
    "    # Format x-axis to view dates properly\n",
    "    ax.xaxis.set_major_locator(mdates.YearLocator(base=year_interval))\n",
    "    ax.xaxis.set_major_formatter(mdates.DateFormatter(\"%b-%Y\"))\n",
    "\n",
    "    # Show plot\n",
    "    plt.show()\n",
    "    return"
   ]
  },
  {
   "cell_type": "code",
   "execution_count": null,
   "metadata": {},
   "outputs": [],
   "source": [
    "# Plot per Region\n",
    "\n",
    "# Group by Region\n",
    "df_region_all = df_travel_.groupby(by=[\"World Region\"]).sum()\n",
    "df_region_all\n",
    "\n",
    "\n",
    "# Pivot\n",
    "def tweak_(df: pd.DataFrame) -> pd.DataFrame:\n",
    "    df.columns = [\"arrival_date\", \"region\", \"num_tourist\"]\n",
    "    return df\n",
    "\n",
    "\n",
    "# Pivot\n",
    "df_region_pivot = df_region_all.unstack().reset_index().pipe(tweak_)\n",
    "\n",
    "df_region_pivot_ = df_region_pivot.loc[\n",
    "    df_region_pivot[\"region\"].isin([\"Western Europe\", \"Asia\", \"North America\"])\n",
    "]\n",
    "\n",
    "line_plot(\n",
    "    df=df_region_pivot_,\n",
    "    x=\"arrival_date\",\n",
    "    y=\"num_tourist\",\n",
    "    hue=\"region\",\n",
    "    month_interval=24,\n",
    ")"
   ]
  },
  {
   "cell_type": "code",
   "execution_count": null,
   "metadata": {},
   "outputs": [],
   "source": [
    "# Manual check if we have replaced correctly the target values\n",
    "df_travel.query('Country==\"Wallis And Futuna Islands\"')\n"
   ]
  },
  {
   "attachments": {},
   "cell_type": "markdown",
   "metadata": {},
   "source": [
    "### Q6- Have any countries had more month-to-month declines in tourism to the US than increases?"
   ]
  },
  {
   "cell_type": "code",
   "execution_count": null,
   "metadata": {},
   "outputs": [],
   "source": [
    "# Define a function to load the tweak for the travel df\n",
    "def load_and_tweak_travel_(file: str) -> pd.DataFrame:\n",
    "    # Rename Headers\n",
    "    rename_cols = {\n",
    "        \"International Visitors--\\n   1) Country of Residence\\n   2) 1+ nights in the USA\\n   3)  Among qualified visa types\": \"Country\",\n",
    "        \"World \\nRegion\": \"World Region\",\n",
    "        \"2023-02\\nPreliminary\": \"2023-02\",\n",
    "        \"2023-01\\nPreliminary\": \"2023-01\",\n",
    "    }\n",
    "\n",
    "    # Columns to drop\n",
    "    cols_to_drop = [\n",
    "        1,\n",
    "        \"Unnamed: 281\",\n",
    "        \"Unnamed: 282\",\n",
    "        \"Unnamed: 283\",\n",
    "        \"Unnamed: 284\",\n",
    "        \"Unnamed: 285\",\n",
    "        \"Unnamed: 286\",\n",
    "        \"Unnamed: 287\",\n",
    "        \"Unnamed: 288\",\n",
    "        \"Unnamed: 289\",\n",
    "        \"Unnamed: 290\",\n",
    "        \"Unnamed: 291\",\n",
    "        \"Notes:\",\n",
    "        \" \",\n",
    "    ]\n",
    "    # Load Dataframe\n",
    "    df = pd.read_excel(file, sheet_name=\"Monthly Y-o-Y % Change\")\n",
    "\n",
    "    # Tweak Dataframe\n",
    "    df = (\n",
    "        df.rename(columns=rename_cols)\n",
    "        .drop(columns=cols_to_drop)\n",
    "        .dropna(axis=\"index\", subset=[\"Country\", \"World Region\"])\n",
    "        .fillna(value=0)\n",
    "        .set_index([\"Country\", \"World Region\"])\n",
    "        .replace(\n",
    "            {\"-\": 0, \" \": 0, \"   \": 0, \"---\": 0}, regex=True\n",
    "        )  # Fill values with minus sign, one space, three spaces with 0\n",
    "        .pipe(convert_to_datetime)  # Convert to datetime\n",
    "        .astype(float)\n",
    "        .multiply(100)\n",
    "    )\n",
    "\n",
    "    return df\n",
    "\n"
   ]
  },
  {
   "cell_type": "code",
   "execution_count": null,
   "metadata": {},
   "outputs": [],
   "source": [
    "# Q6A- Have any countries had more month-to-month declines in tourism to the US than increases?\n",
    "# One way to solve this is to count the negative and positive percentage per country. \n",
    "# then get the variance, if its negative then the country had more declines in tourism\n",
    "\n",
    "# using the Monthly Y-o-Y % Change\n",
    "df_travel_yoy = load_and_tweak_travel_(file)\n",
    "df_travel_yoy.head()"
   ]
  },
  {
   "cell_type": "code",
   "execution_count": null,
   "metadata": {},
   "outputs": [],
   "source": [
    "df_travel_yoy[df_travel_yoy<1]"
   ]
  },
  {
   "cell_type": "code",
   "execution_count": null,
   "metadata": {},
   "outputs": [],
   "source": [
    "# Count\n",
    "df_travel_yoy = df_travel_yoy.assign(\n",
    "    negative=df_travel_yoy[df_travel_yoy < 0].count(axis=\"columns\"),\n",
    "    positive=df_travel_yoy[df_travel_yoy > 0].count(axis=\"columns\"),\n",
    ")\n",
    "df_travel_yoy = df_travel_yoy.assign(variance=df_travel_yoy[\"positive\"] - df_travel_yoy[\"negative\"])\n",
    "df_var = df_travel_yoy[[\"positive\",\"negative\", \"variance\"]]\n",
    "\n",
    "df_var.head()"
   ]
  },
  {
   "cell_type": "code",
   "execution_count": null,
   "metadata": {},
   "outputs": [],
   "source": [
    "num_negative = df_var[\"variance\"][df_var[\"variance\"] < 0].count()\n",
    "perc_negative = num_negative / df_travel_yoy.shape[0]\n",
    "print(f\"The percentage of countries that shows decline in tourism to the US from 2002 to 2022 is {perc_negative:.2%}\")"
   ]
  },
  {
   "cell_type": "code",
   "execution_count": null,
   "metadata": {},
   "outputs": [],
   "source": [
    "# Which countries shows decline?\n",
    "df_var[df_var[\"variance\"] < 0][[\"variance\"]]"
   ]
  },
  {
   "cell_type": "code",
   "execution_count": null,
   "metadata": {},
   "outputs": [],
   "source": [
    "# Q6A- What is the trend in the tourism arrival from asia?\n",
    "\n",
    "df_asia = (\n",
    "    df_travel_.query('`World Region`== \"Asia\"')\n",
    "    .drop(columns=[\"World Region\"])\n",
    "    .set_index(\"Country\")\n",
    ")\n",
    "df_asia"
   ]
  },
  {
   "cell_type": "code",
   "execution_count": null,
   "metadata": {},
   "outputs": [],
   "source": [
    "# Pivot\n",
    "def tweak(df: pd.DataFrame) -> pd.DataFrame:\n",
    "    df.columns = [\"arrival_date\", \"country\", \"num_tourist\"]\n",
    "    return df\n",
    "\n",
    "# Pivot\n",
    "df_asia_pivot = df_asia.unstack().reset_index().pipe(tweak)\n",
    "\n",
    "df_asia_pivot"
   ]
  },
  {
   "attachments": {},
   "cell_type": "markdown",
   "metadata": {},
   "source": [
    "#### Plot - df_asia_pivot"
   ]
  },
  {
   "cell_type": "code",
   "execution_count": null,
   "metadata": {},
   "outputs": [],
   "source": [
    "# Plot\n",
    "ax = df_asia_pivot.plot(kind=\"line\", x=\"arrival_date\", y=\"num_tourist\", figsize=(20, 5))\n",
    "\n",
    "# Format\n",
    "ax.yaxis.set_major_formatter(plt.FuncFormatter(lambda x, loc: f\"{int(x):,}\"))"
   ]
  },
  {
   "attachments": {},
   "cell_type": "markdown",
   "metadata": {},
   "source": [
    "#### Plot - df_asia_pivot hue by country"
   ]
  },
  {
   "cell_type": "code",
   "execution_count": null,
   "metadata": {},
   "outputs": [],
   "source": [
    "# Using seaborn\n",
    "# Style\n",
    "plt.figure(figsize=(20, 5))\n",
    "\n",
    "# Plot\n",
    "\n",
    "# ax = sns.lineplot(data=df_asia_pivot, x=\"arrival_date\", y=\"num_tourist\", hue=\"country\")\n",
    "\n",
    "# Plot\n",
    "line_plot(\n",
    "    df=df_asia_pivot,\n",
    "    x=\"arrival_date\",\n",
    "    y=\"num_tourist\",\n",
    "    hue=\"country\",\n",
    "    year_interval=5,\n",
    ")"
   ]
  },
  {
   "attachments": {},
   "cell_type": "markdown",
   "metadata": {},
   "source": [
    "#### Plot - df_asia_pivot filtered country"
   ]
  },
  {
   "cell_type": "code",
   "execution_count": null,
   "metadata": {},
   "outputs": [],
   "source": [
    "# Filtered Country\n",
    "df_asia_pivot_filtered = df_asia_pivot[\n",
    "    df_asia_pivot[\"country\"].isin([\"Japan\", \"South Korea\", \"China\", \"Philippines\"])\n",
    "]\n",
    "df_asia_pivot_filtered\n",
    "# Plot\n",
    "line_plot(\n",
    "    df=df_asia_pivot_filtered,\n",
    "    x=\"arrival_date\",\n",
    "    y=\"num_tourist\",\n",
    "    hue=\"country\",\n",
    "    year_interval=4,\n",
    ")"
   ]
  },
  {
   "cell_type": "code",
   "execution_count": null,
   "metadata": {},
   "outputs": [],
   "source": [
    "# Filtered Country\n",
    "df_asia_pivot_filtered = df_asia_pivot[\n",
    "    df_asia_pivot[\"country\"].isin([\"Japan\", \"South Korea\", \"China\", \"Philippines\"])\n",
    "]\n",
    "df_asia_pivot_filtered\n",
    "# Color Palette\n",
    "grey_palette = {\"Japan\": \"gray\", \"South Korea\":\"gray\", \"China\":\"gray\", \"Philippines\":\"magenta\"}\n",
    "\n",
    "# Plot\n",
    "line_plot(\n",
    "    df=df_asia_pivot_filtered,\n",
    "    x=\"arrival_date\",\n",
    "    y=\"num_tourist\",\n",
    "    hue=\"country\",\n",
    "    year_interval=4,\n",
    "    color_map=grey_palette\n",
    ")"
   ]
  },
  {
   "attachments": {},
   "cell_type": "markdown",
   "metadata": {},
   "source": [
    "### Calculate the mean of tourists from each country for each decade. (And yes, the current decade will be listed as December 31st, 2030.)"
   ]
  },
  {
   "cell_type": "code",
   "execution_count": null,
   "metadata": {},
   "outputs": [],
   "source": [
    "df_travel_.head(n=2)\n"
   ]
  },
  {
   "attachments": {},
   "cell_type": "markdown",
   "metadata": {},
   "source": [
    "### Q7- Calculate the mean of tourists from each country for each decade. (And yes, the current decade will be listed as December 31st, 2030.)\n"
   ]
  },
  {
   "cell_type": "code",
   "execution_count": null,
   "metadata": {},
   "outputs": [],
   "source": [
    "# Q7- Calculate the mean of tourists from each country for each decade. (And yes, the current decade will be listed as December 31st, 2030.)\n",
    "\n",
    "# # Group by country\n",
    "# df_region_all = (df_travel_.groupby(by=[\"World Region\"]).sum())\n",
    "# df_region_all\n",
    "\n",
    "\n",
    "# Pivot\n",
    "def tweak_(df: pd.DataFrame) -> pd.DataFrame:\n",
    "    df.columns = [\"arrival_date\", \"country\", \"avg_num_tourist\"]\n",
    "    return df\n",
    "\n",
    "\n",
    "# Pivot\n",
    "df_country_pivot = (\n",
    "    df_travel_.drop(columns=[\"World Region\"])\n",
    "    .set_index(\"Country\")\n",
    "    .unstack()\n",
    "    .reset_index()\n",
    "    .pipe(tweak_)\n",
    ")\n",
    "\n",
    "df_country_pivot.head()\n",
    "# Groupby country then by arrival_date with 10 year frequency\n",
    "df_10y = (\n",
    "    df_country_pivot.groupby(\n",
    "        by=[\"country\", pd.Grouper(key=\"arrival_date\", freq=\"10Y\")]\n",
    "    )[[\"avg_num_tourist\"]]\n",
    "    .mean()\n",
    "    .reset_index()\n",
    ")\n",
    "\n",
    "df_10y\n"
   ]
  },
  {
   "cell_type": "code",
   "execution_count": null,
   "metadata": {},
   "outputs": [],
   "source": [
    "df_10y.info()\n"
   ]
  },
  {
   "attachments": {},
   "cell_type": "markdown",
   "metadata": {},
   "source": [
    "#### Plot df_ph"
   ]
  },
  {
   "cell_type": "code",
   "execution_count": null,
   "metadata": {},
   "outputs": [],
   "source": [
    "\n",
    "# Filter df\n",
    "df_ph = df_10y.loc[df_10y[\"country\"].isin([\"Philippines\", \"South Korea\"])]\n",
    "# Convert \"arrival_date\" column to datetime object\n",
    "# Style\n",
    "fig, ax = plt.subplots(figsize=(10, 5))\n",
    "\n",
    "# using Seaborn\n",
    "ax = sns.barplot(data=df_ph, x=\"arrival_date\", y=\"avg_num_tourist\", hue=\"country\")\n",
    "\n",
    "# using pandas built in plot\n",
    "# ax = df_ph.plot(kind=\"bar\", x=\"arrival_date\", y=\"avg_num_tourist\", figsize=(5,5))\n",
    "\n",
    "# Format x-axis to view dates properly and y-axis to view values with thousands\n",
    "ax.yaxis.set_major_formatter(plt.FuncFormatter(lambda x, loc: f\"{int(x):,}\"))\n",
    "ax.xaxis.set_major_formatter(mdates.DateFormatter(\"%Y-%m\"))\n",
    "\n",
    "\n",
    "plt.show()"
   ]
  }
 ],
 "metadata": {
  "kernelspec": {
   "display_name": "base",
   "language": "python",
   "name": "python3"
  },
  "language_info": {
   "codemirror_mode": {
    "name": "ipython",
    "version": 3
   },
   "file_extension": ".py",
   "mimetype": "text/x-python",
   "name": "python",
   "nbconvert_exporter": "python",
   "pygments_lexer": "ipython3",
   "version": "3.10.11"
  },
  "orig_nbformat": 4
 },
 "nbformat": 4,
 "nbformat_minor": 2
}
