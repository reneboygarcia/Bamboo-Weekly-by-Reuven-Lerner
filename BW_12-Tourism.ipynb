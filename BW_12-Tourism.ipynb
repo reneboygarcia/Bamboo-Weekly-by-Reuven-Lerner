{
 "cells": [
  {
   "attachments": {},
   "cell_type": "markdown",
   "metadata": {},
   "source": [
    "## Bamboo Weekly 12 | Tourism\n",
    "\n",
    "The numbers come from the International Trade Administration, part of the US Commerce Department. They keep track of many trade-related numbers, and since tourism is a major part of US trade, they keep track of tourists, too. Their “arrivals program” has been tracking the number and origin of tourists every month for more than 20 years, as described here: https://www.trade.gov/i-94-arrivals-program"
   ]
  },
  {
   "cell_type": "code",
   "execution_count": 2,
   "metadata": {},
   "outputs": [
    {
     "name": "stdout",
     "output_type": "stream",
     "text": [
      "Setup Complete\n"
     ]
    }
   ],
   "source": [
    "# Imports\n",
    "import pandas as pd\n",
    "import numpy as np\n",
    "import seaborn as sns\n",
    "import matplotlib.pyplot as plt\n",
    "import matplotlib.dates as mdates\n",
    "from typing import Union, Optional\n",
    "from urllib.request import urlretrieve\n",
    "from requests import get\n",
    "from pathlib import Path\n",
    "\n",
    "pd.set_option(\"display.max_columns\", None)\n",
    "print(\"Setup Complete\")"
   ]
  },
  {
   "attachments": {},
   "cell_type": "markdown",
   "metadata": {},
   "source": [
    "### Fetch Data"
   ]
  },
  {
   "cell_type": "code",
   "execution_count": 25,
   "metadata": {},
   "outputs": [],
   "source": [
    "# Option 1 - Using requests module\n",
    "def url_retrieve(url: str, filename: Path) -> Path:\n",
    "    file = get(url, allow_redirects=True)\n",
    "    if file.status_code != 200:\n",
    "        raise ConnectionError(f\"Could not download {url}, error code {file.status_code}\")\n",
    "    filename.write_bytes(file.content)\n",
    "    return filename\n",
    "\n",
    "\n",
    "url = \"https://www.trade.gov/sites/default/files/2022-02/Monthly-Arrivals-2000-Present.xlsx\"\n",
    "filename = Path(\"data)/Monthly-Arrivals-2000-Present.xlsx\")\n"
   ]
  },
  {
   "cell_type": "code",
   "execution_count": 3,
   "metadata": {},
   "outputs": [],
   "source": [
    "# Optio 2 - Using urlretrieve module\n",
    "url = \"https://www.trade.gov/sites/default/files/2022-02/Monthly-Arrivals-2000-Present.xlsx\"\n",
    "file, _ = urlretrieve(url, filename=\"data/Monthly-Arrivals-2000-Present.xlsx\")\n"
   ]
  },
  {
   "attachments": {},
   "cell_type": "markdown",
   "metadata": {},
   "source": [
    "### Function-load_and_tweak_countries"
   ]
  },
  {
   "cell_type": "code",
   "execution_count": 4,
   "metadata": {},
   "outputs": [
    {
     "name": "stdout",
     "output_type": "stream",
     "text": [
      "Monthly\n",
      "Monthly Y-o-Y % Change\n"
     ]
    },
    {
     "data": {
      "text/html": [
       "<div>\n",
       "<style scoped>\n",
       "    .dataframe tbody tr th:only-of-type {\n",
       "        vertical-align: middle;\n",
       "    }\n",
       "\n",
       "    .dataframe tbody tr th {\n",
       "        vertical-align: top;\n",
       "    }\n",
       "\n",
       "    .dataframe thead th {\n",
       "        text-align: right;\n",
       "    }\n",
       "</style>\n",
       "<table border=\"1\" class=\"dataframe\">\n",
       "  <thead>\n",
       "    <tr style=\"text-align: right;\">\n",
       "      <th></th>\n",
       "      <th>Country</th>\n",
       "      <th>World Region</th>\n",
       "    </tr>\n",
       "  </thead>\n",
       "  <tbody>\n",
       "    <tr>\n",
       "      <th>0</th>\n",
       "      <td>Afghanistan</td>\n",
       "      <td>Asia</td>\n",
       "    </tr>\n",
       "    <tr>\n",
       "      <th>1</th>\n",
       "      <td>Albania</td>\n",
       "      <td>Eastern Europe</td>\n",
       "    </tr>\n",
       "    <tr>\n",
       "      <th>2</th>\n",
       "      <td>Algeria</td>\n",
       "      <td>Africa</td>\n",
       "    </tr>\n",
       "    <tr>\n",
       "      <th>3</th>\n",
       "      <td>Andorra</td>\n",
       "      <td>Western Europe</td>\n",
       "    </tr>\n",
       "    <tr>\n",
       "      <th>4</th>\n",
       "      <td>Angola</td>\n",
       "      <td>Africa</td>\n",
       "    </tr>\n",
       "  </tbody>\n",
       "</table>\n",
       "</div>"
      ],
      "text/plain": [
       "       Country    World Region\n",
       "0  Afghanistan            Asia\n",
       "1      Albania  Eastern Europe\n",
       "2      Algeria          Africa\n",
       "3      Andorra  Western Europe\n",
       "4       Angola          Africa"
      ]
     },
     "execution_count": 4,
     "metadata": {},
     "output_type": "execute_result"
    }
   ],
   "source": [
    "# Define a function to load the tweak for the countries df\n",
    "def load_and_tweak_countries(file: str) -> pd.DataFrame:\n",
    "    # Rename Headers\n",
    "    rename_cols = {\n",
    "        \"International Visitors--\\n   1) Country of Residence\\n   2) 1+ nights in the USA\\n   3)  Among qualified visa types\": \"Country\",\n",
    "        \"World \\nRegion\": \"World Region\",\n",
    "        \"2023-02\\nPreliminary\": \"2023-02\",\n",
    "        \"2023-01\\nPreliminary\": \"2023-01\",\n",
    "    }\n",
    "    # Load Dataframe\n",
    "    df = pd.read_excel(file, sheet_name=\"Monthly\", usecols=\"A:C\")\n",
    "\n",
    "    # Tweak Dataframe\n",
    "    df = (\n",
    "        df.drop(columns=[1])\n",
    "        .dropna(axis=\"index\")\n",
    "        .rename(columns=rename_cols)\n",
    "        .reset_index(drop=True)\n",
    "    )\n",
    "\n",
    "    return df\n",
    "\n",
    "\n",
    "df_countries = load_and_tweak_countries(file)\n",
    "df_countries.head()"
   ]
  },
  {
   "cell_type": "code",
   "execution_count": null,
   "metadata": {},
   "outputs": [],
   "source": [
    "df_countries.describe()\n"
   ]
  },
  {
   "cell_type": "code",
   "execution_count": null,
   "metadata": {},
   "outputs": [],
   "source": [
    "df_countries.info()\n"
   ]
  },
  {
   "attachments": {},
   "cell_type": "markdown",
   "metadata": {},
   "source": [
    "### Function-covert_to_datetime"
   ]
  },
  {
   "cell_type": "code",
   "execution_count": null,
   "metadata": {},
   "outputs": [],
   "source": [
    "# Define a function to change headers to datetime with specific date format\n",
    "def convert_to_datetime(df: pd.DataFrame) -> pd.DataFrame:\n",
    "    df.columns = pd.to_datetime(df.columns).strftime(\"%Y-%m\")\n",
    "    df.columns = [pd.to_datetime(col) for col in df.columns]\n",
    "    return df\n",
    "\n",
    "\n",
    "# tweak_cols(df_travel)"
   ]
  },
  {
   "attachments": {},
   "cell_type": "markdown",
   "metadata": {},
   "source": [
    "### Function-load_and_tweak_travel"
   ]
  },
  {
   "cell_type": "code",
   "execution_count": null,
   "metadata": {},
   "outputs": [],
   "source": [
    "# Define a function to load the tweak for the travel df\n",
    "def load_and_tweak_travel(file: str) -> pd.DataFrame:\n",
    "    # Rename Headers\n",
    "    rename_cols = {\n",
    "        \"International Visitors--\\n   1) Country of Residence\\n   2) 1+ nights in the USA\\n   3)  Among qualified visa types\": \"Country\",\n",
    "        \"World \\nRegion\": \"World Region\",\n",
    "        \"2023-02\\nPreliminary\": \"2023-02\",\n",
    "        \"2023-01\\nPreliminary\": \"2023-01\",\n",
    "    }\n",
    "\n",
    "    # Columns to drop\n",
    "    cols_to_drop = [\n",
    "        1,\n",
    "        \"Unnamed: 281\",\n",
    "        \"Unnamed: 282\",\n",
    "        \"Unnamed: 283\",\n",
    "        \"Unnamed: 284\",\n",
    "        \"Unnamed: 285\",\n",
    "        \"Unnamed: 286\",\n",
    "        \"Unnamed: 287\",\n",
    "        \"Unnamed: 288\",\n",
    "        \"Unnamed: 289\",\n",
    "        \"Unnamed: 290\",\n",
    "        \"Unnamed: 291\",\n",
    "        \"Unnamed: 292\",\n",
    "        \"Unnamed: 293\",\n",
    "        \"Unnamed: 294\",\n",
    "        \"Notes:\",\n",
    "        \" \",\n",
    "    ]\n",
    "    # Load Dataframe\n",
    "    df = pd.read_excel(file, sheet_name=\"Monthly\")\n",
    "\n",
    "    # Tweak Dataframe\n",
    "    df = (\n",
    "        df.rename(columns=rename_cols)\n",
    "        .drop(columns=cols_to_drop)\n",
    "        .dropna(axis=\"index\", subset=[\"Country\", \"World Region\"])\n",
    "        .fillna(value=0)\n",
    "        .set_index([\"Country\", \"World Region\"])\n",
    "        .replace(\n",
    "            {\"-\": 0, \" \": 0, \"   \": 0, \"---\": 0}, regex=True\n",
    "        )  # Fill values with minus sign, one space, three spaces with 0\n",
    "        .pipe(convert_to_datetime)  # Convert to datetime\n",
    "        .astype(int)\n",
    "    )\n",
    "\n",
    "    return df\n",
    "\n",
    "\n",
    "df_travel = load_and_tweak_travel(file)\n",
    "df_travel"
   ]
  },
  {
   "cell_type": "code",
   "execution_count": null,
   "metadata": {},
   "outputs": [],
   "source": [
    "df_travel.info()\n"
   ]
  },
  {
   "cell_type": "code",
   "execution_count": null,
   "metadata": {},
   "outputs": [],
   "source": [
    "# Manual check if we have replaced correctly the target values\n",
    "df_travel.query('Country==\"Wallis And Futuna Islands\"')\n"
   ]
  },
  {
   "attachments": {},
   "cell_type": "markdown",
   "metadata": {},
   "source": [
    "### Q3- In the most recent report, which 10 countries had the greatest number of tourists enter the US?"
   ]
  },
  {
   "cell_type": "code",
   "execution_count": null,
   "metadata": {},
   "outputs": [],
   "source": [
    "# Q3- In the most recent report, which 10 countries had the greatest number of tourists enter the US?\n",
    "# The latest report is February 2023\n",
    "df_2023 = df_travel[[df_travel.columns[-1]]].nlargest(\n",
    "    n=10, columns=[df_travel.columns[-1]]\n",
    ")\n",
    "df_2023"
   ]
  },
  {
   "attachments": {},
   "cell_type": "markdown",
   "metadata": {},
   "source": [
    "### Q4- In the first report, which 10 countries had the greatest number of tourists enter the US?"
   ]
  },
  {
   "cell_type": "code",
   "execution_count": null,
   "metadata": {},
   "outputs": [],
   "source": [
    "# Q4- In the first report, which 10 countries had the greatest number of tourists enter the US?\n",
    "# The first report is the first column,January 2000\n",
    "df_2000 = df_travel[[df_travel.columns[0]]].nlargest(\n",
    "    n=10, columns=[df_travel.columns[0]]\n",
    ")\n",
    "df_2000"
   ]
  },
  {
   "attachments": {},
   "cell_type": "markdown",
   "metadata": {},
   "source": [
    "### Q5-Total the number of tourists from each region in the earliest report vs. the latest report. \n",
    "### (Yes, you could get this directly from the original Excel spreadsheet, but I want you to calculate this yourself!) Do we see any changes in the last two decades or so?"
   ]
  },
  {
   "cell_type": "code",
   "execution_count": null,
   "metadata": {},
   "outputs": [],
   "source": [
    "# Q5- Total the number of tourists from each region in the earliest report vs. the latest report.\n",
    "# (Yes, you could get this directly from the original Excel spreadsheet,\n",
    "# but I want you to calculate this yourself!) Do we see any changes in the last two decades or so?\n",
    "\n",
    "# Create a copy\n",
    "df_travel_ = df_travel.reset_index().copy()\n",
    "\n",
    "# Get the earliest and latest report\n",
    "latest_col = df_travel_.columns[-1]  # February 2023\n",
    "earliet_col = df_travel_.columns[-1]  # Janaury 2000\n",
    "\n",
    "# Group by Region\n",
    "df_region = (\n",
    "    df_travel_.groupby(by=[\"World Region\"])[latest_col]\n",
    "    .sum()\n",
    "    .to_frame()\n",
    "    .sort_values(by=[latest_col], ascending=False)\n",
    ")\n",
    "\n",
    "df_region\n"
   ]
  },
  {
   "cell_type": "code",
   "execution_count": null,
   "metadata": {},
   "outputs": [],
   "source": [
    "df_travel_.columns[2]"
   ]
  },
  {
   "cell_type": "code",
   "execution_count": null,
   "metadata": {},
   "outputs": [],
   "source": [
    "# Q5A- Total the number of tourists from each region in the earliest report vs. the latest report.\n",
    "# (Yes, you could get this directly from the original Excel spreadsheet,\n",
    "# but I want you to calculate this yourself!) Do we see any changes in the last two decades or so?\n",
    "\n",
    "# Create a copy\n",
    "df_travel_ = df_travel.reset_index().copy()\n",
    "\n",
    "# Get the earliest and latest report\n",
    "latest_col = df_travel_.columns[-3]  # December 2022\n",
    "earliest_col = df_travel_.columns[2]  # Janaury 2000\n",
    "\n",
    "# Group by Region\n",
    "df_region = (\n",
    "    df_travel_.groupby(by=[\"World Region\"])[[earliest_col, latest_col]]\n",
    "    .sum()\n",
    "    .sort_values(by=[earliest_col, latest_col], ascending=False)\n",
    ")\n",
    "\n",
    "df_region\n"
   ]
  },
  {
   "cell_type": "code",
   "execution_count": null,
   "metadata": {},
   "outputs": [],
   "source": [
    "# Plot this in bar graph\n",
    "# Style\n",
    "plt.style.use(\"fivethirtyeight\")\n",
    "plt.figure(figsize=(5, 10))\n",
    "# Sort values\n",
    "df_region = df_region.sort_values(by=[df_region.columns[1]], ascending=True)\n",
    "# Plot\n",
    "ax = df_region.plot(kind=\"barh\", figsize=(10, 10))\n",
    "\n",
    "# Format\n",
    "ax.xaxis.set_major_formatter(plt.FuncFormatter(lambda x, loc: f\"{int(x):,}\"))\n",
    "plt.show()\n"
   ]
  },
  {
   "attachments": {},
   "cell_type": "markdown",
   "metadata": {},
   "source": [
    "#### Function-line_plot()"
   ]
  },
  {
   "cell_type": "code",
   "execution_count": null,
   "metadata": {},
   "outputs": [],
   "source": [
    "def line_plot(\n",
    "    df: pd.DataFrame,\n",
    "    x: str,\n",
    "    y: str,\n",
    "    hue: str,\n",
    "    color_map: Optional[Union[str, list, dict]] = None,\n",
    "    year_interval: int=5,\n",
    "):\n",
    "    # Style\n",
    "    plt.style.use(\"fivethirtyeight\")\n",
    "    fig, ax = plt.subplots(figsize=(20, 5))\n",
    "\n",
    "    # Plot\n",
    "    ax = sns.lineplot(df, x=x, y=y, hue=hue, palette=color_map, alpha=0.9, legend=False)\n",
    "    # Add the text--for each line, find the end, annotate it with a label, and\n",
    "    # adjust the chart axes so that everything fits on.\n",
    "    for line, name in zip(ax.lines, df[hue].unique()):\n",
    "        y = line.get_ydata()[-1]  # NB: to use start value, set [-1] to [0] instead\n",
    "        x = line.get_xdata()[-1]\n",
    "        if not np.isfinite(y):\n",
    "            y = next(reversed(line.get_ydata()[~line.get_ydata().mask]), float(\"nan\"))\n",
    "        if not np.isfinite(y) or not np.isfinite(x):\n",
    "            continue\n",
    "        text = ax.annotate(\n",
    "            name,\n",
    "            xy=(x, y),\n",
    "            xytext=(2, -2),  # YOU CAN ADJUST THE LOC OF LABEL HERE\n",
    "            color=line.get_color(),\n",
    "            xycoords=(ax.get_xaxis_transform(), ax.get_yaxis_transform()),\n",
    "            textcoords=\"offset points\",\n",
    "            fontweight=\"regular\",\n",
    "        )\n",
    "        text_width = (\n",
    "            text.get_window_extent(fig.canvas.get_renderer())\n",
    "            .transformed(ax.transData.inverted())\n",
    "            .width\n",
    "        )\n",
    "        if np.isfinite(text_width):\n",
    "            ax.set_xlim(ax.get_xlim()[0], text.xy[0] + text_width * 1.05)\n",
    "\n",
    "    # Format x-axis to view dates properly\n",
    "    ax.xaxis.set_major_locator(mdates.YearLocator(base=year_interval))\n",
    "    ax.xaxis.set_major_formatter(mdates.DateFormatter(\"%b-%Y\"))\n",
    "\n",
    "    # Show plot\n",
    "    plt.show()\n",
    "    return"
   ]
  },
  {
   "cell_type": "code",
   "execution_count": null,
   "metadata": {},
   "outputs": [],
   "source": [
    "# Plot per Region\n",
    "\n",
    "# Group by Region\n",
    "df_region_all = df_travel_.groupby(by=[\"World Region\"]).sum()\n",
    "df_region_all\n",
    "\n",
    "\n",
    "# Pivot\n",
    "def tweak_(df: pd.DataFrame) -> pd.DataFrame:\n",
    "    df.columns = [\"arrival_date\", \"region\", \"num_tourist\"]\n",
    "    return df\n",
    "\n",
    "\n",
    "# Pivot\n",
    "df_region_pivot = df_region_all.unstack().reset_index().pipe(tweak_)\n",
    "\n",
    "df_region_pivot_ = df_region_pivot.loc[\n",
    "    df_region_pivot[\"region\"].isin([\"Western Europe\", \"Asia\", \"North America\"])\n",
    "]\n",
    "\n",
    "line_plot(\n",
    "    df=df_region_pivot_,\n",
    "    x=\"arrival_date\",\n",
    "    y=\"num_tourist\",\n",
    "    hue=\"region\",\n",
    "    month_interval=24,\n",
    ")"
   ]
  },
  {
   "cell_type": "code",
   "execution_count": null,
   "metadata": {},
   "outputs": [],
   "source": [
    "# Manual check if we have replaced correctly the target values\n",
    "df_travel.query('Country==\"Wallis And Futuna Islands\"')\n"
   ]
  },
  {
   "attachments": {},
   "cell_type": "markdown",
   "metadata": {},
   "source": [
    "### Q6- Have any countries had more month-to-month declines in tourism to the US than increases?"
   ]
  },
  {
   "cell_type": "code",
   "execution_count": null,
   "metadata": {},
   "outputs": [],
   "source": [
    "# Define a function to load the tweak for the travel df\n",
    "def load_and_tweak_travel_(file: str) -> pd.DataFrame:\n",
    "    # Rename Headers\n",
    "    rename_cols = {\n",
    "        \"International Visitors--\\n   1) Country of Residence\\n   2) 1+ nights in the USA\\n   3)  Among qualified visa types\": \"Country\",\n",
    "        \"World \\nRegion\": \"World Region\",\n",
    "        \"2023-02\\nPreliminary\": \"2023-02\",\n",
    "        \"2023-01\\nPreliminary\": \"2023-01\",\n",
    "    }\n",
    "\n",
    "    # Columns to drop\n",
    "    cols_to_drop = [\n",
    "        1,\n",
    "        \"Unnamed: 281\",\n",
    "        \"Unnamed: 282\",\n",
    "        \"Unnamed: 283\",\n",
    "        \"Unnamed: 284\",\n",
    "        \"Unnamed: 285\",\n",
    "        \"Unnamed: 286\",\n",
    "        \"Unnamed: 287\",\n",
    "        \"Unnamed: 288\",\n",
    "        \"Unnamed: 289\",\n",
    "        \"Unnamed: 290\",\n",
    "        \"Unnamed: 291\",\n",
    "        \"Notes:\",\n",
    "        \" \",\n",
    "    ]\n",
    "    # Load Dataframe\n",
    "    df = pd.read_excel(file, sheet_name=\"Monthly Y-o-Y % Change\")\n",
    "\n",
    "    # Tweak Dataframe\n",
    "    df = (\n",
    "        df.rename(columns=rename_cols)\n",
    "        .drop(columns=cols_to_drop)\n",
    "        .dropna(axis=\"index\", subset=[\"Country\", \"World Region\"])\n",
    "        .fillna(value=0)\n",
    "        .set_index([\"Country\", \"World Region\"])\n",
    "        .replace(\n",
    "            {\"-\": 0, \" \": 0, \"   \": 0, \"---\": 0}, regex=True\n",
    "        )  # Fill values with minus sign, one space, three spaces with 0\n",
    "        .pipe(convert_to_datetime)  # Convert to datetime\n",
    "        .astype(float)\n",
    "        .multiply(100)\n",
    "    )\n",
    "\n",
    "    return df\n",
    "\n"
   ]
  },
  {
   "cell_type": "code",
   "execution_count": null,
   "metadata": {},
   "outputs": [],
   "source": [
    "# Q6A- Have any countries had more month-to-month declines in tourism to the US than increases?\n",
    "# One way to solve this is to count the negative and positive percentage per country. \n",
    "# then get the variance, if its negative then the country had more declines in tourism\n",
    "\n",
    "# using the Monthly Y-o-Y % Change\n",
    "df_travel_yoy = load_and_tweak_travel_(file)\n",
    "df_travel_yoy.head()"
   ]
  },
  {
   "cell_type": "code",
   "execution_count": null,
   "metadata": {},
   "outputs": [],
   "source": [
    "df_travel_yoy[df_travel_yoy<1]"
   ]
  },
  {
   "cell_type": "code",
   "execution_count": null,
   "metadata": {},
   "outputs": [],
   "source": [
    "# Count\n",
    "df_travel_yoy = df_travel_yoy.assign(\n",
    "    negative=df_travel_yoy[df_travel_yoy < 0].count(axis=\"columns\"),\n",
    "    positive=df_travel_yoy[df_travel_yoy > 0].count(axis=\"columns\"),\n",
    ")\n",
    "df_travel_yoy = df_travel_yoy.assign(variance=df_travel_yoy[\"positive\"] - df_travel_yoy[\"negative\"])\n",
    "df_var = df_travel_yoy[[\"positive\",\"negative\", \"variance\"]]\n",
    "\n",
    "df_var.head()"
   ]
  },
  {
   "cell_type": "code",
   "execution_count": null,
   "metadata": {},
   "outputs": [],
   "source": [
    "num_negative = df_var[\"variance\"][df_var[\"variance\"] < 0].count()\n",
    "perc_negative = num_negative / df_travel_yoy.shape[0]\n",
    "print(f\"The percentage of countries that shows decline in tourism to the US from 2002 to 2022 is {perc_negative:.2%}\")"
   ]
  },
  {
   "cell_type": "code",
   "execution_count": null,
   "metadata": {},
   "outputs": [],
   "source": [
    "# Which countries shows decline?\n",
    "df_var[df_var[\"variance\"] < 0][[\"variance\"]]"
   ]
  },
  {
   "cell_type": "code",
   "execution_count": null,
   "metadata": {},
   "outputs": [],
   "source": [
    "# Q6A- What is the trend in the tourism arrival from asia?\n",
    "\n",
    "df_asia = (\n",
    "    df_travel_.query('`World Region`== \"Asia\"')\n",
    "    .drop(columns=[\"World Region\"])\n",
    "    .set_index(\"Country\")\n",
    ")\n",
    "df_asia"
   ]
  },
  {
   "cell_type": "code",
   "execution_count": null,
   "metadata": {},
   "outputs": [],
   "source": [
    "# Pivot\n",
    "def tweak(df: pd.DataFrame) -> pd.DataFrame:\n",
    "    df.columns = [\"arrival_date\", \"country\", \"num_tourist\"]\n",
    "    return df\n",
    "\n",
    "# Pivot\n",
    "df_asia_pivot = df_asia.unstack().reset_index().pipe(tweak)\n",
    "\n",
    "df_asia_pivot"
   ]
  },
  {
   "attachments": {},
   "cell_type": "markdown",
   "metadata": {},
   "source": [
    "#### Plot - df_asia_pivot"
   ]
  },
  {
   "cell_type": "code",
   "execution_count": null,
   "metadata": {},
   "outputs": [],
   "source": [
    "# Plot\n",
    "ax = df_asia_pivot.plot(kind=\"line\", x=\"arrival_date\", y=\"num_tourist\", figsize=(20, 5))\n",
    "\n",
    "# Format\n",
    "ax.yaxis.set_major_formatter(plt.FuncFormatter(lambda x, loc: f\"{int(x):,}\"))"
   ]
  },
  {
   "attachments": {},
   "cell_type": "markdown",
   "metadata": {},
   "source": [
    "#### Plot - df_asia_pivot hue by country"
   ]
  },
  {
   "cell_type": "code",
   "execution_count": null,
   "metadata": {},
   "outputs": [],
   "source": [
    "# Using seaborn\n",
    "# Style\n",
    "plt.figure(figsize=(20, 5))\n",
    "\n",
    "# Plot\n",
    "\n",
    "# ax = sns.lineplot(data=df_asia_pivot, x=\"arrival_date\", y=\"num_tourist\", hue=\"country\")\n",
    "\n",
    "# Plot\n",
    "line_plot(\n",
    "    df=df_asia_pivot,\n",
    "    x=\"arrival_date\",\n",
    "    y=\"num_tourist\",\n",
    "    hue=\"country\",\n",
    "    year_interval=5,\n",
    ")"
   ]
  },
  {
   "attachments": {},
   "cell_type": "markdown",
   "metadata": {},
   "source": [
    "#### Plot - df_asia_pivot filtered country"
   ]
  },
  {
   "cell_type": "code",
   "execution_count": null,
   "metadata": {},
   "outputs": [],
   "source": [
    "# Filtered Country\n",
    "df_asia_pivot_filtered = df_asia_pivot[\n",
    "    df_asia_pivot[\"country\"].isin([\"Japan\", \"South Korea\", \"China\", \"Philippines\"])\n",
    "]\n",
    "df_asia_pivot_filtered\n",
    "# Plot\n",
    "line_plot(\n",
    "    df=df_asia_pivot_filtered,\n",
    "    x=\"arrival_date\",\n",
    "    y=\"num_tourist\",\n",
    "    hue=\"country\",\n",
    "    year_interval=4,\n",
    ")"
   ]
  },
  {
   "cell_type": "code",
   "execution_count": null,
   "metadata": {},
   "outputs": [],
   "source": [
    "# Filtered Country\n",
    "df_asia_pivot_filtered = df_asia_pivot[\n",
    "    df_asia_pivot[\"country\"].isin([\"Japan\", \"South Korea\", \"China\", \"Philippines\"])\n",
    "]\n",
    "df_asia_pivot_filtered\n",
    "# Color Palette\n",
    "grey_palette = {\"Japan\": \"gray\", \"South Korea\":\"gray\", \"China\":\"gray\", \"Philippines\":\"magenta\"}\n",
    "\n",
    "# Plot\n",
    "line_plot(\n",
    "    df=df_asia_pivot_filtered,\n",
    "    x=\"arrival_date\",\n",
    "    y=\"num_tourist\",\n",
    "    hue=\"country\",\n",
    "    year_interval=4,\n",
    "    color_map=grey_palette\n",
    ")"
   ]
  },
  {
   "attachments": {},
   "cell_type": "markdown",
   "metadata": {},
   "source": [
    "### Calculate the mean of tourists from each country for each decade. (And yes, the current decade will be listed as December 31st, 2030.)"
   ]
  },
  {
   "cell_type": "code",
   "execution_count": null,
   "metadata": {},
   "outputs": [],
   "source": [
    "df_travel_.head(n=2)\n"
   ]
  },
  {
   "attachments": {},
   "cell_type": "markdown",
   "metadata": {},
   "source": [
    "### Q7- Calculate the mean of tourists from each country for each decade. (And yes, the current decade will be listed as December 31st, 2030.)\n"
   ]
  },
  {
   "cell_type": "code",
   "execution_count": null,
   "metadata": {},
   "outputs": [],
   "source": [
    "# Q7- Calculate the mean of tourists from each country for each decade. (And yes, the current decade will be listed as December 31st, 2030.)\n",
    "\n",
    "# # Group by country\n",
    "# df_region_all = (df_travel_.groupby(by=[\"World Region\"]).sum())\n",
    "# df_region_all\n",
    "\n",
    "\n",
    "# Pivot\n",
    "def tweak_(df: pd.DataFrame) -> pd.DataFrame:\n",
    "    df.columns = [\"arrival_date\", \"country\", \"avg_num_tourist\"]\n",
    "    return df\n",
    "\n",
    "\n",
    "# Pivot\n",
    "df_country_pivot = (\n",
    "    df_travel_.drop(columns=[\"World Region\"])\n",
    "    .set_index(\"Country\")\n",
    "    .unstack()\n",
    "    .reset_index()\n",
    "    .pipe(tweak_)\n",
    ")\n",
    "\n",
    "df_country_pivot.head()\n",
    "# Groupby country then by arrival_date with 10 year frequency\n",
    "df_10y = (\n",
    "    df_country_pivot.groupby(\n",
    "        by=[\"country\", pd.Grouper(key=\"arrival_date\", freq=\"10Y\")]\n",
    "    )[[\"avg_num_tourist\"]]\n",
    "    .mean()\n",
    "    .reset_index()\n",
    ")\n",
    "\n",
    "df_10y\n"
   ]
  },
  {
   "cell_type": "code",
   "execution_count": null,
   "metadata": {},
   "outputs": [],
   "source": [
    "df_10y.info()\n"
   ]
  },
  {
   "attachments": {},
   "cell_type": "markdown",
   "metadata": {},
   "source": [
    "#### Plot df_ph"
   ]
  },
  {
   "cell_type": "code",
   "execution_count": null,
   "metadata": {},
   "outputs": [],
   "source": [
    "\n",
    "# Filter df\n",
    "df_ph = df_10y.loc[df_10y[\"country\"].isin([\"Philippines\", \"South Korea\"])]\n",
    "# Convert \"arrival_date\" column to datetime object\n",
    "# Style\n",
    "fig, ax = plt.subplots(figsize=(10, 5))\n",
    "\n",
    "# using Seaborn\n",
    "ax = sns.barplot(data=df_ph, x=\"arrival_date\", y=\"avg_num_tourist\", hue=\"country\")\n",
    "\n",
    "# using pandas built in plot\n",
    "# ax = df_ph.plot(kind=\"bar\", x=\"arrival_date\", y=\"avg_num_tourist\", figsize=(5,5))\n",
    "\n",
    "# Format x-axis to view dates properly and y-axis to view values with thousands\n",
    "ax.yaxis.set_major_formatter(plt.FuncFormatter(lambda x, loc: f\"{int(x):,}\"))\n",
    "ax.xaxis.set_major_formatter(mdates.DateFormatter(\"%Y-%m\"))\n",
    "\n",
    "\n",
    "plt.show()"
   ]
  }
 ],
 "metadata": {
  "kernelspec": {
   "display_name": "base",
   "language": "python",
   "name": "python3"
  },
  "language_info": {
   "codemirror_mode": {
    "name": "ipython",
    "version": 3
   },
   "file_extension": ".py",
   "mimetype": "text/x-python",
   "name": "python",
   "nbconvert_exporter": "python",
   "pygments_lexer": "ipython3",
   "version": "3.9.16"
  },
  "orig_nbformat": 4
 },
 "nbformat": 4,
 "nbformat_minor": 2
}
